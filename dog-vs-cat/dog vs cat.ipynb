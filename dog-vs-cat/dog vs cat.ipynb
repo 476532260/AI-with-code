{
 "cells": [
  {
   "cell_type": "markdown",
   "metadata": {},
   "source": [
    "## 包的导入\n",
    "需要注意的是将tqdm 改为tqdm.notebook，从而在notebook环境下获得更好的体验。因为导入tqdm的话，会发生进度条打印多次的情况，体验很不好"
   ]
  },
  {
   "cell_type": "code",
   "execution_count": 1,
   "metadata": {},
   "outputs": [],
   "source": [
    "import os \n",
    "import pandas as pd \n",
    "from PIL import Image\n",
    "import torch\n",
    "from torch.utils.data import Dataset\n",
    "from torchvision import transforms,models,utils\n",
    "from tqdm.notebook import tqdm\n",
    "# from tqdm import tqdm_notebook as tqdm\n",
    "from torch import nn\n",
    "import matplotlib.pyplot as plt\n",
    "import torch.optim as optim\n",
    "from torch.utils.tensorboard import SummaryWriter \n",
    "# from torchvision import datasets, transforms,utils"
   ]
  },
  {
   "cell_type": "markdown",
   "metadata": {},
   "source": [
    "相关文件路径配置，在pycharm项目中将相关路径的配置都统一放在config.py中来管理"
   ]
  },
  {
   "cell_type": "code",
   "execution_count": 2,
   "metadata": {},
   "outputs": [],
   "source": [
    "train_path = 'D:/AIdata/dog vs cat/train'\n",
    "test_path = 'D:/AIdata/dog vs cat/test1'\n",
    "data_root = 'D:/AIdata/dog vs cat/'\n",
    "csv_path = './submission_valnet.csv'\n",
    "tensorboard_path='C:/Users/BraveY/Documents/BraveY/AI-with-code/dog-vs-cat/tensorboard'\n",
    "model_save_path = 'C:/Users/BraveY/Documents/BraveY/AI-with-code/dog-vs-cat/modelDict/dogs-vs-cats-notebook.pth'"
   ]
  },
  {
   "cell_type": "markdown",
   "metadata": {},
   "source": [
    "## 数据集的创建\n",
    "因为Kaggle官方提供的是[原始数据](https://www.kaggle.com/c/dogs-vs-cats-redux-kernels-edition/data)，不像之前的手写数字数据集可以从pytorch中直接下载已经处理过的数据集，可以直接将数据放入模型进行训练。因此需要我们自己实现数据集的生成。\n",
    "\n",
    "数据集生成的总体思路是继承torch.utils.data.Dataset这个类，自己实现__getitem__和__len__这两个私有方法来完成对我们自己数据的读取操作。其中__getitem__这个函数的主要功能是根据样本的索引，返回索引对应的一张图片的图像数据X与对应的标签Y，也就是返回一个对应的训练样本。__len__这个函数的功能比较简单直接返回数据集中样本的个数即可。\n",
    "\n",
    "具体而言，__getitem__的实现思路比较简单，将索引idx转换为图片的路径，然后用PIL的Image包来读取图片数据，然后将数据用torchvision的transforms转换成tensor并且进行Resize来统一大小（给出的图片尺寸不一致）与归一化，这样一来就可以得到图像数据了。因为训练集中图片的文件名上面带有猫狗的标签，所以标签可以通过对图片文件名split后得到然后转成0,1编码。\n",
    "\n",
    "在获取标签的时候，因为官方提供的测试数据集中并没有猫狗的标签，所以测试集的标签逻辑稍有不同。我的做法是使用一个train标志来进行区分，对于测试的数据，直接将测试样本的标签变成图片自带的id，这样方便后面输出提交的csv文件。因为测试样本不用计算loss，所以将标签置为id是没问题的。\n",
    "\n",
    "为了实现将idx索引转换成图片路径，需要在__init__()函数中将所有的图片路径放在一个list中，这可以用os.listdir()来实现，然后就可以根据索引去获得路径了。\n",
    "\n",
    "需要注意的是，之所以__getitem__()需要根据索引来返回样本，是因为训练数据并不是一次性将所有样本数据加载到内存中，这样太耗内存。而是只用加载对应batch中的一部分数据，所以通过索引来加载送入模型中的一批数据。"
   ]
  },
  {
   "cell_type": "code",
   "execution_count": 3,
   "metadata": {},
   "outputs": [],
   "source": [
    "class MyDataset(Dataset):\n",
    "    def __init__(self, data_path:str, train=True, transform=None):\n",
    "        self.data_path = data_path\n",
    "        self.train_flag = train\n",
    "        if transform is None:\n",
    "            self.transform = transforms.Compose(\n",
    "            [\n",
    "                transforms.Resize(size = (224,224)),#尺寸规范\n",
    "                transforms.ToTensor(),   #转化为tensor\n",
    "                transforms.Normalize((0.5, 0.5, 0.5), (0.5, 0.5, 0.5)),\n",
    "            ])\n",
    "        else:\n",
    "            self.transform = transform\n",
    "        self.path_list = os.listdir(data_path)\n",
    "    def __getitem__(self, idx: int):\n",
    "        # img to tensor and label to tensor\n",
    "        img_path = self.path_list[idx]\n",
    "        if self.train_flag is True:\n",
    "            if img_path.split('.')[0] == 'dog' : \n",
    "                label = 1\n",
    "            else:\n",
    "                label = 0\n",
    "        else:\n",
    "            label = int(img_path.split('.')[0]) # split 的是str类型要转换为int\n",
    "        label = torch.as_tensor(label, dtype=torch.int64) # 必须使用long 类型数据，否则后面训练会报错 expect long\n",
    "        img_path = os.path.join(self.data_path, img_path)\n",
    "        img = Image.open(img_path)\n",
    "        img = self.transform(img)\n",
    "        return img, label\n",
    "    def __len__(self) -> int:\n",
    "        return len(self.path_list)"
   ]
  },
  {
   "cell_type": "markdown",
   "metadata": {},
   "source": [
    "测试一下，确保Dataset可以正常迭代"
   ]
  },
  {
   "cell_type": "code",
   "execution_count": 4,
   "metadata": {
    "scrolled": true
   },
   "outputs": [
    {
     "data": {
      "application/vnd.jupyter.widget-view+json": {
       "model_id": "77e371e838ff419d9469f7d1bd524489",
       "version_major": 2,
       "version_minor": 0
      },
      "text/plain": [
       "HBox(children=(IntProgress(value=0, max=25000), HTML(value='')))"
      ]
     },
     "metadata": {},
     "output_type": "display_data"
    },
    {
     "name": "stdout",
     "output_type": "stream",
     "text": [
      "(tensor([[[ 0.5922,  0.6078,  0.6392,  ...,  0.9216,  0.8902,  0.8745],\n",
      "         [ 0.5922,  0.6078,  0.6392,  ...,  0.9216,  0.8980,  0.8824],\n",
      "         [ 0.5922,  0.6078,  0.6392,  ...,  0.9216,  0.9059,  0.8902],\n",
      "         ...,\n",
      "         [ 0.2078,  0.2157,  0.2235,  ..., -0.9765, -0.9765, -0.9765],\n",
      "         [ 0.2000,  0.2000,  0.2078,  ..., -0.9843, -0.9843, -0.9843],\n",
      "         [ 0.1843,  0.1922,  0.2000,  ..., -0.9922, -0.9922, -0.9922]],\n",
      "\n",
      "        [[ 0.2863,  0.3020,  0.3333,  ...,  0.6000,  0.5843,  0.5686],\n",
      "         [ 0.2863,  0.3020,  0.3333,  ...,  0.6000,  0.5922,  0.5765],\n",
      "         [ 0.2863,  0.3020,  0.3333,  ...,  0.6000,  0.6000,  0.5843],\n",
      "         ...,\n",
      "         [-0.0353, -0.0275, -0.0196,  ..., -0.9765, -0.9765, -0.9765],\n",
      "         [-0.0431, -0.0431, -0.0353,  ..., -0.9843, -0.9843, -0.9843],\n",
      "         [-0.0588, -0.0510, -0.0431,  ..., -0.9922, -0.9922, -0.9922]],\n",
      "\n",
      "        [[-0.3176, -0.3020, -0.2706,  ..., -0.0588, -0.0431, -0.0510],\n",
      "         [-0.3176, -0.3020, -0.2706,  ..., -0.0510, -0.0431, -0.0431],\n",
      "         [-0.3176, -0.3020, -0.2706,  ..., -0.0431, -0.0275, -0.0353],\n",
      "         ...,\n",
      "         [-0.5608, -0.5529, -0.5451,  ..., -0.9922, -0.9922, -0.9922],\n",
      "         [-0.5686, -0.5686, -0.5608,  ..., -1.0000, -1.0000, -1.0000],\n",
      "         [-0.5843, -0.5765, -0.5686,  ..., -1.0000, -1.0000, -1.0000]]]), tensor(0))\n"
     ]
    }
   ],
   "source": [
    "train_ds = MyDataset(train_path)\n",
    "test_ds = MyDataset(test_path,train=False)\n",
    "for i, item in enumerate(tqdm(train_ds)):\n",
    "#     pass\n",
    "    print(item)\n",
    "    break\n"
   ]
  },
  {
   "cell_type": "markdown",
   "metadata": {},
   "source": [
    "## 数据集划分\n",
    "如前面所述，因为官方测试集没有标签，而且提交结果上去后只有一个log loos来作为分值，没有准确率的结果。所以为了得到准确率这个指标，需要新建个有标签的验证集来查看准确率。\n",
    "\n",
    "实现思路是使用torch.utils.data.random_split(),来将官方提供训练数据集划分出一部分的验证集。我的比例是80%的训练集，20%的验证集\n"
   ]
  },
  {
   "cell_type": "code",
   "execution_count": 5,
   "metadata": {},
   "outputs": [],
   "source": [
    "full_ds = train_ds\n",
    "train_size = int(0.8 * len(full_ds))\n",
    "validate_size = len(full_ds) - train_size\n",
    "new_train_ds, validate_ds = torch.utils.data.random_split(full_ds,[train_size, validate_size])#数据集划分"
   ]
  },
  {
   "cell_type": "markdown",
   "metadata": {},
   "source": [
    "## 数据加载\n",
    "我们制作的数据集并不能直接放入模型进行训练，还需要使用一个数据加载器，来加载数据集。使用torch.utils.data.DataLoader()来划分每个batch用来后面训练的时候向网络提供输入数据"
   ]
  },
  {
   "cell_type": "code",
   "execution_count": 6,
   "metadata": {},
   "outputs": [],
   "source": [
    "train_loader = torch.utils.data.DataLoader(train_ds, batch_size=32,\n",
    "                                            shuffle=True, pin_memory=True, num_workers=0)\n",
    "test_loader = torch.utils.data.DataLoader(test_ds, batch_size=32,\n",
    "                                            shuffle=True, pin_memory=True, num_workers=0)\n",
    "## numworkers设置不为0 会报错 Broken pipe Error 网上说是win10上的pytorch bug"
   ]
  },
  {
   "cell_type": "code",
   "execution_count": 7,
   "metadata": {},
   "outputs": [],
   "source": [
    "new_train_loader = torch.utils.data.DataLoader(train_ds, batch_size=32,\n",
    "                                            shuffle=True, pin_memory=True, num_workers=0)\n",
    "validate_loader = torch.utils.data.DataLoader(validate_ds, batch_size=32,\n",
    "                                            shuffle=True, pin_memory=True, num_workers=0)"
   ]
  },
  {
   "cell_type": "markdown",
   "metadata": {},
   "source": [
    "加载过后数据形状从三维变成四维，多的维度是batch_size，这里是32个样本构成一个batch"
   ]
  },
  {
   "cell_type": "code",
   "execution_count": 8,
   "metadata": {},
   "outputs": [
    {
     "name": "stdout",
     "output_type": "stream",
     "text": [
      "torch.Size([32, 3, 224, 224])\n"
     ]
    }
   ],
   "source": [
    "for i, item in enumerate(train_loader):\n",
    "#     pass\n",
    "    print(item[0].shape)\n",
    "    break"
   ]
  },
  {
   "cell_type": "markdown",
   "metadata": {},
   "source": [
    "### resize后的图像查看\n",
    "前面提到过对数据进行了resize和正则化的处理，下面是对处理后的图像的可视化"
   ]
  },
  {
   "cell_type": "code",
   "execution_count": 9,
   "metadata": {},
   "outputs": [
    {
     "data": {
      "image/png": "[encoded data removed]",
      "text/plain": [
       "<Figure size 432x288 with 1 Axes>"
      ]
     },
     "metadata": {},
     "output_type": "display_data"
    },
    {
     "name": "stdout",
     "output_type": "stream",
     "text": [
      "\n"
     ]
    }
   ],
   "source": [
    "img_PIL_Tensor = train_ds[1][0]\n",
    "new_img_PIL = transforms.ToPILImage()(img_PIL_Tensor).convert('RGB')\n",
    "plt.imshow(new_img_PIL)\n",
    "plt.show()\n",
    "# print(new_img_PIL.show())"
   ]
  },
  {
   "cell_type": "markdown",
   "metadata": {},
   "source": [
    "## 网络搭建\n",
    "网络搭建的框架与之前的[手写数字识别](https://zhuanlan.zhihu.com/p/112829371)的框架一致，两个卷积层后3个全连接层。需要注意的是参数不能套用之前的参数了，因为之前的手写数字的图片很小，而且数据量不大所以尽管参数比较大，也能在我的机子上跑起来(MX150,2GB显存)。猫狗的数据量显然比之前的大，所以需要将参数变小些，才能跑起来。 我实验了下，如果不将网络参数降低的话，只调整batch_size没有用，依然会报显存不足。"
   ]
  },
  {
   "cell_type": "code",
   "execution_count": 10,
   "metadata": {},
   "outputs": [],
   "source": [
    "import torch.nn.functional as F\n",
    "class MyCNN(nn.Module):\n",
    "    def __init__(self):\n",
    "        super(MyCNN,self).__init__()\n",
    "        self.conv1 = nn.Conv2d(3,8,kernel_size=3,stride=1,padding=1) # 按照公式计算后经过卷积层不改变尺寸\n",
    "        self.pool = nn.MaxPool2d(2,2) # 2*2的池化 池化后size 减半\n",
    "        self.conv2 = nn.Conv2d(8,16,kernel_size=3,stride=1,padding=1)\n",
    "        self.fc1 = nn.Linear(16*56*56,256)#两个池化，所以是224/2/2=56\n",
    "        self.fc2 = nn.Linear(256,64)\n",
    "        self.fc3 = nn.Linear(64,2)\n",
    "#         self.dp = nn.Dropout(p=0.5)\n",
    "    def forward(self,x):\n",
    "#         print(\"input:\", x)\n",
    "        x = self.pool(F.relu(self.conv1(x)))\n",
    "#         print(\"first conv:\", x)\n",
    "        x = self.pool(F.relu(self.conv2(x)))\n",
    "#         print(\"second conv:\", x)\n",
    "             \n",
    "        x = x.view(-1, 16 * 56* 56)#将数据平整为一维的 \n",
    "        x = F.relu(self.fc1(x))\n",
    "        x = F.relu(self.fc2(x))  \n",
    "        x = self.fc3(x)  \n",
    "#         x = F.log_softmax(x,dim=1) NLLLoss()才需要，交叉熵不需要\n",
    "        return x\n",
    "        \n",
    "   "
   ]
  },
  {
   "cell_type": "markdown",
   "metadata": {},
   "source": [
    "### 预训练模型\n",
    "除了自己手动DIY一个网络，也可以使用Pytorch已经提供的一些性能很好的模型比如VGG16，ResNet50等等，然后微调下网络结构，来得到符合自己的任务的网络架构。还可以直接下载这些模型在ImageNet上的预训练参数，然后在自己的数据集上进行训练。\n",
    "\n",
    "我在这儿选择了ResNet50网络以及预训练好的权重进行了下实验，我在实验室的机器上面用P100跑的，因为自己的笔记本显卡太垃圾了只有2GB显存。"
   ]
  },
  {
   "cell_type": "code",
   "execution_count": 11,
   "metadata": {},
   "outputs": [],
   "source": [
    "## 直接设置为True的话下载权重太慢了\n",
    "## 所以手动用浏览器下载好了之后再重新加载\n",
    "resnet50 = models.resnet50(pretrained=False)  \n",
    "model_path = 'D:/AIdata/dog vs cat/resnet50-19c8e357.pth'\n",
    "resnet50.load_state_dict(torch.load(model_path))\n",
    "resnet50.fc = nn.Linear(2048, 2) #修改最后一层网络将输出调整为两维"
   ]
  },
  {
   "cell_type": "markdown",
   "metadata": {},
   "source": [
    "## 损失函数和优化函数"
   ]
  },
  {
   "cell_type": "code",
   "execution_count": 12,
   "metadata": {},
   "outputs": [],
   "source": [
    "net = MyCNN()\n",
    "# net = resnet50"
   ]
  },
  {
   "cell_type": "code",
   "execution_count": 13,
   "metadata": {},
   "outputs": [],
   "source": [
    "\n",
    "criterion = nn.CrossEntropyLoss()\n",
    "# criterion = nn.BCELoss()  #二分类交叉熵损失函数\n",
    "# criterion = nn.BCEWithLogitsLoss() #二分类交叉熵损失函数 带log loss\n",
    "# criterion = nn.MSELoss()\n",
    "\n",
    "optimizer = optim.SGD(net.parameters(), lr=0.001, momentum=0.9)\n",
    "#也可以选择Adam优化方法\n",
    "# optimizer = torch.optim.Adam(net.parameters(),lr=1e-2)   "
   ]
  },
  {
   "cell_type": "markdown",
   "metadata": {},
   "source": [
    "##  训练日志的打印\n",
    "\n",
    "在之前的手写数字识别的准确率的计算和画图以日志的打印比较简单，在这更新为topk准确率以及使用tensorboard来画曲线。并且使用tqdm进度条来实时的打印日志。\n"
   ]
  },
  {
   "cell_type": "markdown",
   "metadata": {},
   "source": [
    "专门建立一个类来保存和更新准确率的结果，使用类来让代码更加的规范化"
   ]
  },
  {
   "cell_type": "code",
   "execution_count": 14,
   "metadata": {},
   "outputs": [],
   "source": [
    "class AvgrageMeter(object):\n",
    "\n",
    "    def __init__(self):\n",
    "        self.reset()\n",
    "\n",
    "    def reset(self):\n",
    "        self.avg = 0\n",
    "        self.sum = 0\n",
    "        self.cnt = 0\n",
    "\n",
    "    def update(self, val, n=1):\n",
    "        self.sum += val * n\n",
    "        self.cnt += n\n",
    "        self.avg = self.sum / self.cnt"
   ]
  },
  {
   "cell_type": "markdown",
   "metadata": {},
   "source": [
    "## 准确率的计算\n",
    "torch.topk(input, k, dim=None, largest=True, sorted=True, out=None) -> (Tensor, LongTensor) 返回某一维度前k个的索引\n",
    "input：一个tensor数据\n",
    "k：指明是得到前k个数据以及其index\n",
    "dim： 指定在哪个维度上排序， 默认是最后一个维度\n",
    "largest：如果为True，按照大到小排序； 如果为False，按照小到大排序\n",
    "sorted：返回的结果按照顺序返回\n",
    "out：可缺省，不要"
   ]
  },
  {
   "cell_type": "code",
   "execution_count": 15,
   "metadata": {},
   "outputs": [],
   "source": [
    "## topk的准确率计算\n",
    "def accuracy(output, label, topk=(1,)):\n",
    "    maxk = max(topk) \n",
    "    batch_size = label.size(0)\n",
    "    \n",
    "    # 获取前K的索引\n",
    "    _, pred = output.topk(maxk, 1, True, True) #使用topk来获得前k个的索引\n",
    "    pred = pred.t() # 进行转置\n",
    "    # eq按照对应元素进行比较 view(1,-1) 自动转换到行为1,的形状， expand_as(pred) 扩展到pred的shape\n",
    "    # expand_as 执行按行复制来扩展，要保证列相等\n",
    "    correct = pred.eq(label.view(1, -1).expand_as(pred)) # 与正确标签序列形成的矩阵相比，生成True/False矩阵\n",
    "#     print(correct)\n",
    "\n",
    "    rtn = []\n",
    "    for k in topk:\n",
    "        correct_k = correct[:k].view(-1).float().sum(0) # 前k行的数据 然后平整到1维度，来计算true的总个数\n",
    "        rtn.append(correct_k.mul_(100.0 / batch_size)) # mul_() ternsor 的乘法  正确的数目/总的数目 乘以100 变成百分比\n",
    "    return rtn"
   ]
  },
  {
   "cell_type": "markdown",
   "metadata": {},
   "source": [
    "### tensorboard画图\n",
    "详细的参数讲解参考：https://www.pytorchtutorial.com/pytorch-builtin-tensorboard/ \n",
    "在使用pip install安装tensorboard如果速度很慢经常断线的话可以换个国内的源：\n",
    "`pip config set global.index-url https://mirrors.ustc.edu.cn/pypi/web/simple `"
   ]
  },
  {
   "cell_type": "markdown",
   "metadata": {},
   "source": [
    "# tesnor 图片"
   ]
  },
  {
   "cell_type": "code",
   "execution_count": 16,
   "metadata": {},
   "outputs": [],
   "source": [
    "from torch.utils.tensorboard import SummaryWriter \n",
    "writer = SummaryWriter('./tensorboard/')"
   ]
  },
  {
   "cell_type": "markdown",
   "metadata": {},
   "source": [
    "## 迭代训练"
   ]
  },
  {
   "cell_type": "code",
   "execution_count": 17,
   "metadata": {},
   "outputs": [],
   "source": [
    "def train( epochs, train_loader, device, model, criterion, optimizer,tensorboard_path):\n",
    "    model = model.to(device)\n",
    "    for epoch in range(epochs):\n",
    "        train_loader = tqdm(train_loader)\n",
    "        train_loss = 0.0\n",
    "        model.train()\n",
    "        top1 = AvgrageMeter()\n",
    "        train_loader.set_description('[%s%04d/%04d %s%f]' % ('Epoch:', epoch + 1, epochs, 'lr:', 0.001))\n",
    "        for i, data in enumerate(train_loader, 0):  # 0是下标起始位置默认为0\n",
    "            inputs, labels = data[0].to(device), data[1].to(device)\n",
    "            # 初始为0，清除上个batch的梯度信息\n",
    "            optimizer.zero_grad()\n",
    "            outputs = model(inputs)\n",
    "            loss = criterion(outputs,labels)\n",
    "            loss.backward()\n",
    "            optimizer.step()\n",
    "            #topk准确率\n",
    "            prec1, prec2 = accuracy(outputs, labels, topk=(1, 2))\n",
    "            n = inputs.size(0)\n",
    "            top1.update(prec1.item(), n)\n",
    "            train_loss += loss.item()\n",
    "            postfix = {'train_loss': '%.6f' % (train_loss / (i + 1)), 'train_acc': '%.6f' % top1.avg}\n",
    "            train_loader.set_postfix(log=postfix)\n",
    "\n",
    "            # ternsorboard 曲线绘制\n",
    "            writer = SummaryWriter(tensorboard_path)\n",
    "            writer.add_scalar('Train/Loss', loss.item(), epoch)\n",
    "            writer.add_scalar('Train/Accuracy', top1.avg, epoch)\n",
    "            writer.flush()\n",
    "\n",
    "    print('Finished Training')"
   ]
  },
  {
   "cell_type": "markdown",
   "metadata": {},
   "source": [
    "##  模型评估\n",
    "准确率验证\n",
    "在验证集上面的验证，求网络的的准确率指标"
   ]
  },
  {
   "cell_type": "code",
   "execution_count": 18,
   "metadata": {},
   "outputs": [],
   "source": [
    "def validate(validate_loader, device, model, criterion):\n",
    "    val_acc = 0.0\n",
    "    model = model.to(device)\n",
    "    model.eval()\n",
    "    with torch.no_grad():  # 进行评测的时候网络不更新梯度\n",
    "        val_top1 = AvgrageMeter()\n",
    "        validate_loader = tqdm(validate_loader)\n",
    "        validate_loss = 0.0\n",
    "        for i, data in enumerate(validate_loader, 0):  # 0是下标起始位置默认为0\n",
    "            inputs, labels = data[0].to(device), data[1].to(device)\n",
    "            #         inputs,labels = data[0],data[1]\n",
    "            outputs = model(inputs)\n",
    "            loss = criterion(outputs, labels)\n",
    "\n",
    "            prec1, prec2 = accuracy(outputs, labels, topk=(1, 2))\n",
    "            n = inputs.size(0)\n",
    "            val_top1.update(prec1.item(), n)\n",
    "            validate_loss += loss.item()\n",
    "            postfix = {'validate_loss': '%.6f' % (validate_loss / (i + 1)), 'validate_acc': '%.6f' % val_top1.avg}\n",
    "            validate_loader.set_postfix(log=postfix)\n",
    "        val_acc = val_top1.avg\n",
    "    return val_acc"
   ]
  },
  {
   "cell_type": "markdown",
   "metadata": {},
   "source": [
    "## 输出测试集的预测结果\n",
    "将测试集输入进网络，得到测试集的预测结果，并转换成csv文件，用来提交到Kaggle上进行评分。需要注意的是，因为官网要求给的是图片是狗的概率，需要将网络的输出转成概率值。\n",
    "\n",
    "\n",
    "但实际上测试的时候网络的输出是一正一负的值，不是概率值。这是因为测试的时候没有计算loss ，而softmax这个过程是在计算交叉熵的时候自动计算的，所以在网络架构中最后一层全连接输出后没有softmax计算。因此需要我们手动增加上softmax的过程，这样经过softmax后就可以变成两个概率值了!将图片是狗的概率保存下来，并转成符合官方要求的提交格式。"
   ]
  },
  {
   "cell_type": "code",
   "execution_count": 19,
   "metadata": {},
   "outputs": [],
   "source": [
    "def submission(csv_path,test_loader, device, model):\n",
    "    result_list = []\n",
    "    model = model.to(device)\n",
    "    test_loader = tqdm(test_loader)\n",
    "    with torch.no_grad():  # 进行评测的时候网络不更新梯度\n",
    "        for i, data in enumerate(test_loader, 0):\n",
    "            images, labels = data[0].to(device), data[1].to(device)\n",
    "            outputs = model(images)\n",
    "            softmax_func = nn.Softmax(dim=1)  # dim=1表示行的和为1\n",
    "            soft_output = softmax_func(outputs)\n",
    "            predicted = soft_output[:, 1]\n",
    "            for i in range(len(predicted)):\n",
    "                result_list.append({\n",
    "                    \"id\": labels[i].item(),\n",
    "                    \"label\": predicted[i].item()\n",
    "                })\n",
    "    # 从list转成 dataframe 然后保存为csv文件\n",
    "    columns = result_list[0].keys()\n",
    "    result_dict = {col: [anno[col] for anno in result_list] for col in columns}\n",
    "    result_df = pd.DataFrame(result_dict)\n",
    "    result_df = result_df.sort_values(\"id\")\n",
    "    result_df.to_csv(csv_path, index=None)"
   ]
  },
  {
   "cell_type": "markdown",
   "metadata": {},
   "source": [
    "## 完整调用流程\n"
   ]
  },
  {
   "cell_type": "markdown",
   "metadata": {},
   "source": [
    " 损失函数和优化方法的确定"
   ]
  },
  {
   "cell_type": "code",
   "execution_count": 20,
   "metadata": {},
   "outputs": [],
   "source": [
    "net = MyCNN()\n",
    "device = torch.device(\"cuda:0\" if torch.cuda.is_available() else \"cpu\")\n",
    "criterion = nn.CrossEntropyLoss()\n",
    "# criterion = nn.BCELoss()  #二分类交叉熵损失函数\n",
    "# criterion = nn.BCEWithLogitsLoss() #二分类交叉熵损失函数 带log loss\n",
    "# criterion = nn.MSELoss()\n",
    "\n",
    "optimizer = optim.SGD(net.parameters(), lr=0.001, momentum=0.9)\n",
    "#也可以选择Adam优化方法\n",
    "# optimizer = torch.optim.Adam(net.parameters(),lr=1e-2)   "
   ]
  },
  {
   "cell_type": "markdown",
   "metadata": {},
   "source": [
    "训练过程，需要传入epoch数目，训练数据加载器，设备，网络模型，损失函数，优化方法和tensorboard画图的路径等参数。\n",
    "注意的是如果使用完整的官方训练数据集来训练网络后，用这个网络去在验证集上面验证是没有意义的，因为验证集的数据是从完整训练数据集上面划分出来，所以相当于在用训练数据验证性能。用划分过后的new_train_loader训练的网络在进行验证才有意义。"
   ]
  },
  {
   "cell_type": "code",
   "execution_count": 21,
   "metadata": {},
   "outputs": [
    {
     "data": {
      "application/vnd.jupyter.widget-view+json": {
       "model_id": "4ec7351a4fd0429fb90d385e097f8963",
       "version_major": 2,
       "version_minor": 0
      },
      "text/plain": [
       "HBox(children=(IntProgress(value=0, max=782), HTML(value='')))"
      ]
     },
     "metadata": {},
     "output_type": "display_data"
    },
    {
     "name": "stdout",
     "output_type": "stream",
     "text": [
      "\n",
      "Finished Training\n"
     ]
    }
   ],
   "source": [
    "# train( 1, train_loader, device,net, criterion, optimizer,tensorboard_path) # 完整的训练数据集\n",
    "train( 1, new_train_loader, device,net, criterion, optimizer,tensorboard_path) # 划分80%后的训练数据集"
   ]
  },
  {
   "cell_type": "markdown",
   "metadata": {},
   "source": [
    "在训练的时候会用tensorboard保存每个时刻的训练数据，需要新打开一个命令端口输入：\n",
    "`tensorboard --logdir=/path_to_log_dir/ --port 6006` 命令，然后通过在浏览器中输入网址http://localhost:6006/ 来查看"
   ]
  },
  {
   "cell_type": "markdown",
   "metadata": {},
   "source": [
    "模型的保存和加载"
   ]
  },
  {
   "cell_type": "code",
   "execution_count": 22,
   "metadata": {},
   "outputs": [
    {
     "data": {
      "text/plain": [
       "<All keys matched successfully>"
      ]
     },
     "execution_count": 22,
     "metadata": {},
     "output_type": "execute_result"
    }
   ],
   "source": [
    "torch.save(net.state_dict(), model_save_path)\n",
    "val_net = MyCNN()\n",
    "val_net.load_state_dict(torch.load('./dogs-vs-cats_12epoch_valnet.pth'))"
   ]
  },
  {
   "cell_type": "markdown",
   "metadata": {},
   "source": [
    "验证过程，输入的网络是上面训练过的网络，或者从模型权重保存路径加载的模型。输出模型在自己划分的验证集上面的准确率，结果是98.84%"
   ]
  },
  {
   "cell_type": "code",
   "execution_count": 23,
   "metadata": {},
   "outputs": [
    {
     "data": {
      "application/vnd.jupyter.widget-view+json": {
       "model_id": "6706125cbd9e4ce9b2e9c2bd85237e78",
       "version_major": 2,
       "version_minor": 0
      },
      "text/plain": [
       "HBox(children=(IntProgress(value=0, max=157), HTML(value='')))"
      ]
     },
     "metadata": {},
     "output_type": "display_data"
    },
    {
     "name": "stdout",
     "output_type": "stream",
     "text": [
      "\n"
     ]
    },
    {
     "data": {
      "text/plain": [
       "98.92"
      ]
     },
     "execution_count": 23,
     "metadata": {},
     "output_type": "execute_result"
    }
   ],
   "source": [
    "validate(validate_loader,device,val_net,criterion)"
   ]
  },
  {
   "cell_type": "markdown",
   "metadata": {},
   "source": [
    "输出测试集预测结果"
   ]
  },
  {
   "cell_type": "code",
   "execution_count": 24,
   "metadata": {},
   "outputs": [
    {
     "data": {
      "application/vnd.jupyter.widget-view+json": {
       "model_id": "ca03a16cd42942a296d06555ed0d91d5",
       "version_major": 2,
       "version_minor": 0
      },
      "text/plain": [
       "HBox(children=(IntProgress(value=0, max=391), HTML(value='')))"
      ]
     },
     "metadata": {},
     "output_type": "display_data"
    },
    {
     "name": "stdout",
     "output_type": "stream",
     "text": [
      "\n"
     ]
    }
   ],
   "source": [
    "submission('./test.csv',test_loader, device, val_net)"
   ]
  },
  {
   "cell_type": "markdown",
   "metadata": {},
   "source": [
    "最后在Kaggle上提交预测结果csv文件，得到打分。 需要先报名参赛这些操作，而且只有Dogs vs. Cats Redux: Kernels Edition这个才能够提交数据，最开始的那个6年前的提交通道已经关闭了。提交可以下载Kaggle的API在命令行提交，也可以直接在[提交链接](https://www.kaggle.com/c/dogs-vs-cats-redux-kernels-edition/submit)提交"
   ]
  },
  {
   "cell_type": "markdown",
   "metadata": {},
   "source": [
    "## 结果\n",
    "我总共训练了三个网络，其中full_net 使用全部的训练数据，val_net使用划分过的训练数据，RestNet50是预训练的模型，使用完整训练数据训练"
   ]
  },
  {
   "cell_type": "markdown",
   "metadata": {},
   "source": [
    "## 问题\n",
    "自己在搭建网络的时候遇到一个问题就是随便设置的一个网络结构的时候，发现交叉熵的loss会一直维持在0.69，不下降。暂时还没有搞懂问题出在哪儿，后面有时间了研究下，"
   ]
  },
  {
   "cell_type": "markdown",
   "metadata": {},
   "source": [
    "## 参考\n",
    "https://www.pytorchtutorial.com/pytorch-builtin-tensorboard/ tensorboard画图\n",
    "https://www.zhihu.com/question/38341743 源的更新\n",
    "https://www.cnblogs.com/marsggbo/p/10496696.html 数据集的划分\n",
    "https://github.com/ShunLu91/Single-Path-One-Shot-NAS topk的计算"
   ]
  }
 ],
 "metadata": {
  "kernelspec": {
   "display_name": "Python 3",
   "language": "python",
   "name": "python3"
  },
  "language_info": {
   "codemirror_mode": {
    "name": "ipython",
    "version": 3
   },
   "file_extension": ".py",
   "mimetype": "text/x-python",
   "name": "python",
   "nbconvert_exporter": "python",
   "pygments_lexer": "ipython3",
   "version": "3.6.5"
  }
 },
 "nbformat": 4,
 "nbformat_minor": 2
}
