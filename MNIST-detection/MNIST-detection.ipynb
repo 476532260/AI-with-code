{
 "cells": [
  {
   "cell_type": "markdown",
   "metadata": {},
   "source": [
    "本实践使用卷积神经网络（CNN）模型，用于预测手写数字图片。\n",
    "\n",
    "![](https://ai-studio-static-online.cdn.bcebos.com/ba26eac845334208851e72c7a2dfef5e1eec566894ba430aba7492e72c49cacd)"
   ]
  },
  {
   "cell_type": "markdown",
   "metadata": {},
   "source": [
    "首先导入必要的包\n",
    "\n",
    "numpy---------->python第三方库，用于进行科学计算\n",
    "\n",
    "PIL------------> Python Image Library,python第三方图像处理库\n",
    "\n",
    "matplotlib----->python的绘图库 pyplot:matplotlib的绘图框架\n",
    "\n",
    "os------------->提供了丰富的方法来处理文件和目录\n",
    "torchvision----->提供很多数据集的下载，包括COCO，ImageNet，CIFCAR等\n"
   ]
  },
  {
   "cell_type": "code",
   "execution_count": 1,
   "metadata": {},
   "outputs": [],
   "source": [
    "#导入需要的包\n",
    "import numpy as np\n",
    "import torch \n",
    "from torch import nn\n",
    "from PIL import Image\n",
    "import matplotlib.pyplot as plt\n",
    "import os\n",
    "from torchvision import datasets, transforms,utils"
   ]
  },
  {
   "cell_type": "markdown",
   "metadata": {},
   "source": [
    "# **Step1：准备数据。**\n",
    "\n",
    "(1)数据集介绍\n",
    "\n",
    "MNIST数据集包含60000个训练集和10000测试数据集。分为图片和标签，图片是28*28的像素矩阵，标签为0~9共10个数字。\n",
    "\n",
    "![](https://ai-studio-static-online.cdn.bcebos.com/fc73217ae57f451a89badc801a903bb742e42eabd9434ecc8089efe19a66c076)\n",
    "\n",
    "(2)data_train和data_test\n",
    "root为数据集存放的路径，transform指定数据集导入的时候需要进行的变换，train设置为true表明导入的是训练集合，否则会测试集合。\n",
    "Compose是把多种数据处理的方法集合在一起。使用transforms进行Tensor格式转换和Batch Normalization。\n",
    "参考：\n",
    "https://zhuanlan.zhihu.com/p/37857371\n",
    "https://zhuanlan.zhihu.com/p/30249139\n",
    "（3）打印看下数据是什么样的？数据已经经过transform的归一化处理"
   ]
  },
  {
   "cell_type": "markdown",
   "metadata": {},
   "source": [
    "class torchvision.transforms.Normalize(mean, std)：\n",
    "给定均值：(R,G,B) 方差：（R，G，B），将会把Tensor正则化。即：Normalized_image=(image-mean)/std.\n",
    "MINIST是（1,28,28）不是RGB的三维，只有一维的灰度图数据，所以不是[0.5,0.5,0.5],而是[0.5]"
   ]
  },
  {
   "cell_type": "code",
   "execution_count": 2,
   "metadata": {},
   "outputs": [],
   "source": [
    "transform = transforms.Compose([transforms.ToTensor(),\n",
    "                               transforms.Normalize(mean=[0.5],std=[0.5])])"
   ]
  },
  {
   "cell_type": "code",
   "execution_count": 3,
   "metadata": {},
   "outputs": [],
   "source": [
    "train_data = datasets.MNIST(root = \"./data/\",\n",
    "                            transform=transform,\n",
    "                            train = True,\n",
    "                            download = True)\n",
    "\n",
    "test_data = datasets.MNIST(root=\"./data/\",\n",
    "                           transform = transform,\n",
    "                           train = False)"
   ]
  },
  {
   "cell_type": "markdown",
   "metadata": {},
   "source": [
    "数据下载慢的问题：https://blog.csdn.net/qq_31904559/article/details/96591484?depth_1-utm_source=distribute.pc_relevant.none-task&utm_source=distribute.pc_relevant.none-task"
   ]
  },
  {
   "cell_type": "code",
   "execution_count": 4,
   "metadata": {},
   "outputs": [
    {
     "data": {
      "text/plain": [
       "10000"
      ]
     },
     "execution_count": 4,
     "metadata": {},
     "output_type": "execute_result"
    }
   ],
   "source": [
    "len(test_data)"
   ]
  },
  {
   "cell_type": "markdown",
   "metadata": {},
   "source": [
    "train_data 的个数：60000个训练样本\n",
    "\n",
    "test_data 的个数：10000个训练样本\n",
    "\n",
    "一个样本的格式为[data,label]，第一个存放数据，第二个存放标签"
   ]
  },
  {
   "cell_type": "markdown",
   "metadata": {},
   "source": [
    "https://pytorch-cn.readthedocs.io/zh/latest/package_references/data/\n",
    "num_workers 表示用多少个子进程加载数据\n",
    "shuffle 表示在装载过程中随机乱序"
   ]
  },
  {
   "cell_type": "code",
   "execution_count": 4,
   "metadata": {},
   "outputs": [],
   "source": [
    "train_loader = torch.utils.data.DataLoader(train_data,batch_size=64,\n",
    "                                          shuffle=True,num_workers=2)\n",
    "test_loader = torch.utils.data.DataLoader(test_data,batch_size=64,\n",
    "                                          shuffle=True,num_workers=2)"
   ]
  },
  {
   "cell_type": "code",
   "execution_count": 5,
   "metadata": {},
   "outputs": [],
   "source": [
    "dataiter = iter(test_loader)\n",
    "images, labels = dataiter.next()"
   ]
  },
  {
   "cell_type": "code",
   "execution_count": 8,
   "metadata": {},
   "outputs": [
    {
     "data": {
      "text/plain": [
       "tensor([1, 1, 2, 4, 1, 4, 3, 3, 7, 8, 3, 2, 6, 7, 7, 0, 1, 0, 5, 1, 7, 2, 6, 1,\n",
       "        1, 4, 6, 0, 0, 4, 8, 0, 5, 4, 5, 8, 5, 4, 6, 6, 2, 1, 9, 0, 2, 2, 4, 8,\n",
       "        1, 3, 5, 1, 9, 5, 0, 3, 9, 8, 9, 4, 0, 9, 2, 2])"
      ]
     },
     "execution_count": 8,
     "metadata": {},
     "output_type": "execute_result"
    }
   ],
   "source": [
    "labels"
   ]
  },
  {
   "cell_type": "markdown",
   "metadata": {},
   "source": [
    "设置batch_size=64后，加载器中的基本单为是一个batch的数据\n",
    "\n",
    "所以train_loader 的长度是60000/64 = 938 个batch\n",
    "\n",
    "test_loader 的长度是10000/64= 157个batch"
   ]
  },
  {
   "cell_type": "code",
   "execution_count": 6,
   "metadata": {},
   "outputs": [
    {
     "name": "stdout",
     "output_type": "stream",
     "text": [
      "938\n",
      "157\n"
     ]
    }
   ],
   "source": [
    "print(len(train_loader))\n",
    "print(len(test_loader))"
   ]
  },
  {
   "cell_type": "markdown",
   "metadata": {},
   "source": [
    "加载到dataloader中后，一个dataloader是一个batch的数据"
   ]
  },
  {
   "cell_type": "code",
   "execution_count": 26,
   "metadata": {},
   "outputs": [],
   "source": [
    "# data_iter = iter(train_loader)\n",
    "# print(next(data_iter))"
   ]
  },
  {
   "cell_type": "markdown",
   "metadata": {},
   "source": [
    "从二维数组生成一张图片"
   ]
  },
  {
   "cell_type": "code",
   "execution_count": 8,
   "metadata": {},
   "outputs": [
    {
     "data": {
      "image/png": "[encoded data removed]",
      "text/plain": [
       "<Figure size 432x288 with 1 Axes>"
      ]
     },
     "metadata": {},
     "output_type": "display_data"
    }
   ],
   "source": [
    "oneimg,label = train_data[0]\n",
    "oneimg = oneimg.numpy().transpose(1,2,0) \n",
    "std = [0.5]\n",
    "mean = [0.5]\n",
    "oneimg = oneimg * std + mean\n",
    "oneimg.resize(28,28)\n",
    "plt.imshow(oneimg)\n",
    "plt.show()"
   ]
  },
  {
   "cell_type": "markdown",
   "metadata": {},
   "source": [
    "从三维生成一张黑白图片"
   ]
  },
  {
   "cell_type": "code",
   "execution_count": 9,
   "metadata": {},
   "outputs": [
    {
     "data": {
      "image/png": "[encoded data removed]",
      "text/plain": [
       "<Figure size 432x288 with 1 Axes>"
      ]
     },
     "metadata": {},
     "output_type": "display_data"
    }
   ],
   "source": [
    "oneimg,label = train_data[0]\n",
    "grid = utils.make_grid(oneimg)\n",
    "grid = grid.numpy().transpose(1,2,0) \n",
    "std = [0.5]\n",
    "mean = [0.5]\n",
    "grid = grid * std + mean\n",
    "plt.imshow(grid)\n",
    "plt.show()"
   ]
  },
  {
   "cell_type": "markdown",
   "metadata": {},
   "source": [
    "输出一个batch的图片和标签"
   ]
  },
  {
   "cell_type": "code",
   "execution_count": 10,
   "metadata": {},
   "outputs": [
    {
     "name": "stdout",
     "output_type": "stream",
     "text": [
      "tensor(4) tensor(7) tensor(6) tensor(6) tensor(1) tensor(2) tensor(1) tensor(3) \n",
      "tensor(2) tensor(9) tensor(6) tensor(2) tensor(5) tensor(0) tensor(7) tensor(1) \n",
      "tensor(6) tensor(2) tensor(2) tensor(3) tensor(7) tensor(2) tensor(2) tensor(3) \n",
      "tensor(4) tensor(6) tensor(3) tensor(3) tensor(8) tensor(3) tensor(6) tensor(6) \n",
      "tensor(7) tensor(4) tensor(3) tensor(0) tensor(2) tensor(1) tensor(2) tensor(0) \n",
      "tensor(3) tensor(9) tensor(2) tensor(2) tensor(4) tensor(5) tensor(7) tensor(0) \n",
      "tensor(5) tensor(0) tensor(5) tensor(8) tensor(3) tensor(9) tensor(8) tensor(2) \n",
      "tensor(7) tensor(5) tensor(8) tensor(2) tensor(6) tensor(8) tensor(9) tensor(1) \n"
     ]
    },
    {
     "data": {
      "image/png": "[encoded data removed]",
      "text/plain": [
       "<Figure size 432x288 with 1 Axes>"
      ]
     },
     "metadata": {},
     "output_type": "display_data"
    }
   ],
   "source": [
    "images, lables = next(iter(train_loader))\n",
    "img = utils.make_grid(images)\n",
    "# transpose 转置函数(x=0,y=1,z=2),新的x是原来的y轴大小，新的y是原来的z轴大小，新的z是原来的x大小\n",
    "#相当于把x=1这个一道最后面去。\n",
    "img = img.numpy().transpose(1,2,0) \n",
    "std = [0.5]\n",
    "mean = [0.5]\n",
    "img = img * std + mean\n",
    "for i in range(64):\n",
    "    print(lables[i], end=\" \")\n",
    "    i += 1\n",
    "    if i%8 is 0:\n",
    "        print(end='\\n')\n",
    "plt.imshow(img)\n",
    "plt.show()"
   ]
  },
  {
   "cell_type": "markdown",
   "metadata": {},
   "source": [
    "# **Step2.网络配置**\n",
    "网络结构是两个卷积层，3个全连接层。"
   ]
  },
  {
   "cell_type": "markdown",
   "metadata": {},
   "source": [
    "Conv2d参数\n",
    "- in_channels(int) – 输入信号的通道数目\n",
    "- out_channels(int) – 卷积产生的通道数目\n",
    "- kerner_size(int or tuple) - 卷积核的尺寸\n",
    "- stride(int or tuple, optional) - 卷积步长\n",
    "- padding(int or tuple, optional) - 输入的每一条边补充0的层数"
   ]
  },
  {
   "cell_type": "markdown",
   "metadata": {},
   "source": [
    "1.定义一个CNN网络"
   ]
  },
  {
   "cell_type": "code",
   "execution_count": 6,
   "metadata": {},
   "outputs": [],
   "source": [
    "import torch.nn.functional as F\n",
    "class CNN(nn.Module):\n",
    "    def __init__(self):\n",
    "        super(CNN,self).__init__()\n",
    "        self.conv1 = nn.Conv2d(1,32,kernel_size=3,stride=1,padding=1)\n",
    "        self.pool = nn.MaxPool2d(2,2)\n",
    "        self.conv2 = nn.Conv2d(32,64,kernel_size=3,stride=1,padding=1)\n",
    "        self.fc1 = nn.Linear(64*7*7,1024)#两个池化，所以是7*7而不是14*14\n",
    "        self.fc2 = nn.Linear(1024,512)\n",
    "        self.fc3 = nn.Linear(512,10)\n",
    "#         self.dp = nn.Dropout(p=0.5)\n",
    "    def forward(self,x):\n",
    "        x = self.pool(F.relu(self.conv1(x)))\n",
    "        x = self.pool(F.relu(self.conv2(x)))\n",
    "             \n",
    "        x = x.view(-1, 64 * 7* 7)#将数据平整为一维的 \n",
    "        x = F.relu(self.fc1(x))\n",
    "#         x = self.fc3(x)\n",
    "#         self.dp(x)\n",
    "        x = F.relu(self.fc2(x))   \n",
    "        x = self.fc3(x)  \n",
    "#         x = F.log_softmax(x,dim=1) NLLLoss()才需要，交叉熵不需要\n",
    "        return x\n",
    "        \n",
    "net = CNN()        "
   ]
  },
  {
   "cell_type": "markdown",
   "metadata": {},
   "source": [
    "2.定义损失函数和优化函数"
   ]
  },
  {
   "cell_type": "code",
   "execution_count": 7,
   "metadata": {},
   "outputs": [],
   "source": [
    "import torch.optim as optim\n",
    "\n",
    "criterion = nn.CrossEntropyLoss()\n",
    "optimizer = optim.SGD(net.parameters(), lr=0.001, momentum=0.9)\n",
    "#也可以选择Adam优化方法\n",
    "# optimizer = torch.optim.Adam(net.parameters(),lr=1e-2)   "
   ]
  },
  {
   "cell_type": "markdown",
   "metadata": {},
   "source": [
    "# **Step3.模型训练**"
   ]
  },
  {
   "cell_type": "code",
   "execution_count": 13,
   "metadata": {},
   "outputs": [
    {
     "name": "stdout",
     "output_type": "stream",
     "text": [
      "[1,  100] loss :2.292\n",
      "[1,  200] loss :2.261\n",
      "[1,  300] loss :2.195\n",
      "[1,  400] loss :1.984\n",
      "[1,  500] loss :1.337\n",
      "[1,  600] loss :0.765\n",
      "[1,  700] loss :0.520\n",
      "[1,  800] loss :0.427\n",
      "[1,  900] loss :0.385\n",
      "[2,  100] loss :0.339\n",
      "[2,  200] loss :0.301\n",
      "[2,  300] loss :0.290\n",
      "[2,  400] loss :0.260\n",
      "[2,  500] loss :0.250\n",
      "[2,  600] loss :0.245\n",
      "[2,  700] loss :0.226\n",
      "[2,  800] loss :0.218\n",
      "[2,  900] loss :0.206\n",
      "[3,  100] loss :0.183\n",
      "[3,  200] loss :0.176\n",
      "[3,  300] loss :0.174\n",
      "[3,  400] loss :0.156\n",
      "[3,  500] loss :0.160\n",
      "[3,  600] loss :0.147\n",
      "[3,  700] loss :0.146\n",
      "[3,  800] loss :0.130\n",
      "[3,  900] loss :0.115\n",
      "Finished Training\n"
     ]
    }
   ],
   "source": [
    "train_accs = []\n",
    "train_loss = []\n",
    "test_accs = []\n",
    "device = torch.device(\"cuda:0\" if torch.cuda.is_available() else \"cpu\")\n",
    "net = net.to(device)\n",
    "for epoch in range(3):\n",
    "    running_loss = 0.0\n",
    "    for i,data in enumerate(train_loader,0):#0是下标起始位置默认为0\n",
    "        # data 的格式[[inputs, labels]]       \n",
    "#         inputs,labels = data\n",
    "        inputs,labels = data[0].to(device), data[1].to(device)\n",
    "        #初始为0，清除上个batch的梯度信息\n",
    "        optimizer.zero_grad()         \n",
    "        \n",
    "        #前向+后向+优化     \n",
    "        outputs = net(inputs)\n",
    "        loss = criterion(outputs,labels)\n",
    "        loss.backward()\n",
    "        optimizer.step()\n",
    "        \n",
    "        # loss 的输出，每个一百个batch输出，平均的loss\n",
    "        running_loss += loss.item()\n",
    "        if i%100 == 99:\n",
    "            print('[%d,%5d] loss :%.3f' %\n",
    "                 (epoch+1,i+1,running_loss/100))\n",
    "            running_loss = 0.0\n",
    "        train_loss.append(loss.item())\n",
    "        \n",
    "        # 训练曲线的绘制 一个batch中的准确率\n",
    "        correct = 0\n",
    "        total = 0\n",
    "        _, predicted = torch.max(outputs.data, 1)\n",
    "        total = labels.size(0)# labels 的长度\n",
    "        correct = (predicted == labels).sum().item() # 预测正确的数目\n",
    "        train_accs.append(100*correct/total)\n",
    "        \n",
    "print('Finished Training')            "
   ]
  },
  {
   "cell_type": "markdown",
   "metadata": {},
   "source": [
    "模型的保存"
   ]
  },
  {
   "cell_type": "code",
   "execution_count": 8,
   "metadata": {},
   "outputs": [],
   "source": [
    "PATH = './mnist_net.pth'\n",
    "# torch.save(net.state_dict(), PATH)"
   ]
  },
  {
   "cell_type": "markdown",
   "metadata": {},
   "source": [
    "# **Step4.模型评估**"
   ]
  },
  {
   "cell_type": "markdown",
   "metadata": {},
   "source": [
    "画图"
   ]
  },
  {
   "cell_type": "code",
   "execution_count": 9,
   "metadata": {},
   "outputs": [],
   "source": [
    "def draw_train_process(title,iters,costs,accs,label_cost,lable_acc):\n",
    "    plt.title(title, fontsize=24)\n",
    "    plt.xlabel(\"iter\", fontsize=20)\n",
    "    plt.ylabel(\"acc(\\%)\", fontsize=20)\n",
    "    plt.plot(iters, costs,color='red',label=label_cost) \n",
    "    plt.plot(iters, accs,color='green',label=lable_acc) \n",
    "    plt.legend()\n",
    "    plt.grid()\n",
    "    plt.show()"
   ]
  },
  {
   "cell_type": "code",
   "execution_count": 10,
   "metadata": {},
   "outputs": [
    {
     "ename": "NameError",
     "evalue": "name 'train_accs' is not defined",
     "output_type": "error",
     "traceback": [
      "\u001b[1;31m---------------------------------------------------------------------------\u001b[0m",
      "\u001b[1;31mNameError\u001b[0m                                 Traceback (most recent call last)",
      "\u001b[1;32m<ipython-input-10-40299158ab88>\u001b[0m in \u001b[0;36m<module>\u001b[1;34m()\u001b[0m\n\u001b[1;32m----> 1\u001b[1;33m \u001b[0mtrain_iters\u001b[0m \u001b[1;33m=\u001b[0m \u001b[0mrange\u001b[0m\u001b[1;33m(\u001b[0m\u001b[0mlen\u001b[0m\u001b[1;33m(\u001b[0m\u001b[0mtrain_accs\u001b[0m\u001b[1;33m)\u001b[0m\u001b[1;33m)\u001b[0m\u001b[1;33m\u001b[0m\u001b[0m\n\u001b[0m\u001b[0;32m      2\u001b[0m \u001b[0mdraw_train_process\u001b[0m\u001b[1;33m(\u001b[0m\u001b[1;34m'training'\u001b[0m\u001b[1;33m,\u001b[0m\u001b[0mtrain_iters\u001b[0m\u001b[1;33m,\u001b[0m\u001b[0mtrain_loss\u001b[0m\u001b[1;33m,\u001b[0m\u001b[0mtrain_accs\u001b[0m\u001b[1;33m,\u001b[0m\u001b[1;34m'training loss'\u001b[0m\u001b[1;33m,\u001b[0m\u001b[1;34m'training acc'\u001b[0m\u001b[1;33m)\u001b[0m\u001b[1;33m\u001b[0m\u001b[0m\n",
      "\u001b[1;31mNameError\u001b[0m: name 'train_accs' is not defined"
     ]
    }
   ],
   "source": [
    "train_iters = range(len(train_accs))\n",
    "draw_train_process('training',train_iters,train_loss,train_accs,'training loss','training acc')"
   ]
  },
  {
   "cell_type": "markdown",
   "metadata": {},
   "source": [
    "检验一个batch的分类情况"
   ]
  },
  {
   "cell_type": "code",
   "execution_count": 11,
   "metadata": {},
   "outputs": [
    {
     "data": {
      "image/png": "[encoded data removed]",
      "text/plain": [
       "<Figure size 432x288 with 1 Axes>"
      ]
     },
     "metadata": {},
     "output_type": "display_data"
    },
    {
     "name": "stdout",
     "output_type": "stream",
     "text": [
      "GroundTruth:  8 3 7 8 2 2 9 0 5 4 3 9 8 3 9 1 6 1 3 4 9 1 7 8 1 1 9 3 7 9 8 3 8 1 3 0 6 9 6 4 7 0 2 3 7 1 0 0 2 3 5 0 4 8 9 2 9 6 9 0 4 4 3 7\n"
     ]
    }
   ],
   "source": [
    "dataiter = iter(test_loader)\n",
    "images, labels = dataiter.next()\n",
    "\n",
    "# print images\n",
    "test_img = utils.make_grid(images)\n",
    "test_img = test_img.numpy().transpose(1,2,0)\n",
    "std = [0.5,0.5,0.5]\n",
    "mean =  [0.5,0.5,0.5]\n",
    "test_img = test_img*std+0.5\n",
    "plt.imshow(test_img)\n",
    "plt.show()\n",
    "print('GroundTruth: ', ' '.join('%d' % labels[j] for j in range(64)))"
   ]
  },
  {
   "cell_type": "code",
   "execution_count": 12,
   "metadata": {},
   "outputs": [],
   "source": [
    "test_net = CNN()\n",
    "test_net.load_state_dict(torch.load(PATH))\n",
    "test_out = test_net(images)"
   ]
  },
  {
   "cell_type": "markdown",
   "metadata": {},
   "source": [
    "输出的是每一类的对应概率，所以需要选择max来确定最终输出的类别\n",
    "dim=1 表示选择行的最大索引"
   ]
  },
  {
   "cell_type": "code",
   "execution_count": 14,
   "metadata": {},
   "outputs": [
    {
     "name": "stdout",
     "output_type": "stream",
     "text": [
      "tensor([[-2.9370e+00,  2.9196e+00,  1.4503e+00,  1.9290e+00, -1.7032e+00,\n",
      "         -3.3540e+00, -4.1651e+00,  5.6114e-01,  6.0744e+00,  9.9091e-01],\n",
      "        [-8.2660e-01,  1.9926e-01,  2.1117e+00,  8.7784e+00, -6.1950e+00,\n",
      "          2.3517e+00, -3.8595e+00, -4.4688e+00,  2.6616e+00, -6.8463e-01],\n",
      "        [-1.2551e+00, -2.1900e+00, -2.3137e-01,  3.5690e-01,  3.3703e-01,\n",
      "         -3.7463e+00, -9.9534e+00,  1.1112e+01,  6.5894e-01,  7.0691e+00],\n",
      "        [-4.3811e+00,  6.8432e-01,  1.4182e+00, -3.0549e+00,  3.6184e+00,\n",
      "         -1.0302e+00,  3.6301e+00, -5.6895e+00,  8.5403e+00, -2.8818e+00],\n",
      "        [ 1.7213e+00, -2.5349e+00,  1.2862e+01,  5.4392e+00, -5.6381e+00,\n",
      "         -6.0106e+00, -4.9204e+00,  1.7201e+00,  3.1960e-01, -2.9709e+00],\n",
      "        [ 6.7907e-01, -1.4280e-01,  1.3742e+01,  2.6711e+00, -3.4679e+00,\n",
      "         -6.8306e+00, -4.9212e-01, -1.2316e+00, -1.9436e-02, -4.9522e+00],\n",
      "        [-5.3778e+00, -3.4048e+00, -2.4920e+00, -1.3121e+00,  6.6018e+00,\n",
      "         -3.1535e-02, -5.8609e+00,  2.0678e+00,  2.9574e+00,  9.6402e+00],\n",
      "        [ 1.3431e+01, -9.9947e+00,  1.3931e+00, -3.6735e+00, -6.7095e+00,\n",
      "          5.3610e+00,  2.7952e+00, -5.5493e+00,  1.3846e+00, -1.8000e+00],\n",
      "        [ 2.6048e+00, -6.6721e+00, -8.6037e-02, -2.3346e+00, -2.4672e-01,\n",
      "          7.0542e+00,  1.0276e+00, -4.1918e+00,  2.3851e+00, -3.0068e-02],\n",
      "        [-2.0451e+00, -4.6105e+00, -2.6922e+00, -6.9022e+00,  1.2659e+01,\n",
      "         -3.6460e+00,  4.2669e+00,  3.6011e-01,  1.5312e+00,  2.8810e+00],\n",
      "        [ 2.0302e+00, -1.2782e+00,  1.9532e+00,  7.2313e+00, -6.6916e+00,\n",
      "          2.7369e+00, -4.0242e-02, -1.2492e+00, -2.7507e+00, -3.0859e+00],\n",
      "        [-3.3173e+00, -2.5514e+00, -4.8375e+00, -1.0940e+00,  5.4563e+00,\n",
      "          3.5471e-01, -4.6416e+00,  2.0585e+00,  1.8380e+00,  9.0706e+00],\n",
      "        [ 1.2105e+00, -1.8379e+00,  1.5187e+00,  7.5550e-01, -3.0840e+00,\n",
      "          2.7176e+00,  5.2788e+00, -1.1417e+01,  7.5825e+00, -3.6961e+00],\n",
      "        [-3.0085e+00,  1.6866e+00,  3.2105e+00,  1.1569e+01, -6.4407e+00,\n",
      "          4.0281e+00, -3.6156e+00, -5.0246e+00,  5.8087e-01, -2.9287e+00],\n",
      "        [-1.9585e+00, -3.8801e+00, -2.9540e+00, -1.2593e+00,  3.8636e+00,\n",
      "          2.1274e-01, -5.1274e+00,  1.0685e+00,  3.2660e+00,  8.8714e+00],\n",
      "        [-1.6698e+00,  6.8226e+00, -5.1680e-01, -3.0751e+00,  5.6138e-02,\n",
      "         -7.4970e-01,  2.5025e+00, -3.3441e-01,  3.6472e-01, -2.1126e+00],\n",
      "        [ 1.8211e+00, -4.2700e+00,  4.6824e-01, -6.0528e+00,  4.6969e+00,\n",
      "         -1.5149e+00,  1.2287e+01, -6.3726e+00,  3.9738e-01, -1.9846e+00],\n",
      "        [-5.4096e+00,  7.5988e+00, -7.3101e-01, -2.1346e-01,  1.2362e+00,\n",
      "         -1.7204e-01, -1.0061e+00,  1.3992e+00, -3.3839e-02, -3.5610e-01],\n",
      "        [ 1.6108e+00, -2.8004e+00,  3.6002e+00,  4.8295e+00, -2.3369e+00,\n",
      "          6.3222e-01, -5.3683e-01, -5.5645e+00,  1.7406e+00, -9.8722e-01],\n",
      "        [-4.7611e+00, -3.4831e+00,  1.0044e-01, -9.3177e-01,  1.0747e+01,\n",
      "         -2.6883e+00, -3.7151e+00,  3.2869e+00, -4.6712e-01,  4.4981e+00],\n",
      "        [-4.5707e+00, -2.3767e+00, -3.0437e+00,  1.6505e+00,  3.6163e+00,\n",
      "          1.3272e+00, -6.3305e+00,  3.8600e+00, -3.0655e-02,  7.9921e+00],\n",
      "        [-2.7031e+00,  7.6308e+00,  2.3435e+00, -1.1367e-01,  1.7439e-01,\n",
      "         -2.4108e+00, -1.8221e+00, -9.4778e-02,  2.2998e+00, -3.3625e+00],\n",
      "        [-3.2864e+00,  3.5584e-01,  9.6008e-01,  3.3717e+00, -1.3946e+00,\n",
      "         -1.8268e+00, -1.0718e+01,  1.2455e+01, -1.9355e+00,  4.4380e+00],\n",
      "        [-1.0850e+00, -1.5427e+00, -2.0533e+00,  4.2825e-01, -2.2756e+00,\n",
      "          3.8661e+00, -5.2797e-01, -6.8680e+00,  8.7873e+00,  1.4444e+00],\n",
      "        [-3.6661e+00,  8.2073e+00,  1.0422e-01, -1.1994e+00,  8.8781e-01,\n",
      "         -2.6737e+00, -3.9642e-01,  2.0013e+00, -3.4730e-01, -6.2583e-01],\n",
      "        [-1.2268e+00,  4.4998e+00,  8.3259e-01,  2.0940e-01, -1.2288e+00,\n",
      "         -3.3350e+00, -2.7628e+00,  1.0170e+00,  2.9585e+00,  7.9236e-01],\n",
      "        [-2.1426e+00, -8.4510e+00,  9.2547e-01, -2.5365e+00,  6.1508e+00,\n",
      "         -5.0781e-01, -3.2639e+00, -1.1295e+00,  2.7644e+00,  9.7677e+00],\n",
      "        [-1.1055e+00, -6.5792e-01,  9.9006e-01,  9.6787e+00, -3.7282e+00,\n",
      "          2.2074e+00, -6.2659e+00, -8.5246e-01, -1.1964e+00,  1.9639e+00],\n",
      "        [-3.8970e+00,  1.6801e+00, -1.6077e+00,  3.1537e-01,  1.7122e+00,\n",
      "          3.5638e-01, -5.1933e+00,  4.2649e+00, -1.6684e-01,  4.9524e+00],\n",
      "        [-1.6851e+00, -3.0718e+00, -1.7645e+00,  2.8531e-01,  3.0300e+00,\n",
      "         -8.7741e-01, -6.3533e+00,  6.1591e+00, -1.6781e+00,  8.0783e+00],\n",
      "        [-5.4427e+00,  3.7808e+00,  1.6728e-01, -3.3858e-01,  1.6287e+00,\n",
      "         -9.9073e-01,  1.5673e+00, -4.2376e+00,  6.6543e+00, -1.3860e+00],\n",
      "        [ 1.3078e-01,  8.5120e-01,  2.9213e-01,  6.4606e+00, -6.2350e+00,\n",
      "          3.7882e+00, -3.1660e+00, -8.7732e-01, -1.4094e+00,  4.6801e-01],\n",
      "        [-2.3257e+00, -2.9456e+00,  4.0403e+00,  9.1863e-01, -2.4671e+00,\n",
      "         -2.6697e+00, -3.4457e+00, -1.9129e-01,  1.0360e+01, -1.0675e+00],\n",
      "        [-3.7089e+00,  7.9290e+00, -4.9615e-01, -4.5931e-01,  2.8023e-01,\n",
      "         -3.1497e+00, -1.2683e+00,  1.6708e+00,  1.3058e+00,  1.7090e-01],\n",
      "        [-2.3385e+00, -2.6612e+00, -1.2040e+00,  2.1636e-01, -5.6531e-01,\n",
      "          2.9388e+00, -6.5380e-01, -3.9740e+00,  6.2970e+00,  2.4300e+00],\n",
      "        [ 1.1302e+01, -9.2192e+00,  2.3917e+00, -1.1077e+00, -1.7524e+00,\n",
      "         -1.5189e+00,  1.7732e+00, -1.5764e+00, -1.5591e+00, -3.1972e-01],\n",
      "        [ 6.5888e-01, -3.4560e+00,  2.3644e+00, -6.0642e+00,  4.9008e+00,\n",
      "         -3.4056e-01,  1.0546e+01, -2.7064e+00, -2.1488e+00, -4.1432e+00],\n",
      "        [-5.1215e+00,  7.6795e-01, -4.9708e+00,  4.1239e-01,  4.3151e+00,\n",
      "          2.8176e-01, -7.1780e+00,  5.9470e+00,  9.4290e-01,  7.3434e+00],\n",
      "        [ 3.7255e+00, -3.9574e+00,  1.6710e+00, -6.2963e+00,  2.6115e+00,\n",
      "          3.6072e+00,  1.1972e+01, -9.0629e+00, -1.1825e+00, -3.9430e+00],\n",
      "        [ 3.6752e-03, -8.0811e+00, -1.4997e+00, -7.9878e+00,  1.2135e+01,\n",
      "         -2.1156e+00,  3.2999e+00,  2.5323e+00,  1.0420e+00,  1.4986e+00],\n",
      "        [-6.9893e-01, -8.6541e-01,  3.8695e+00,  2.4078e+00, -3.3072e+00,\n",
      "         -3.6547e+00, -1.0223e+01,  1.1526e+01, -2.9756e-01,  2.8810e+00],\n",
      "        [ 8.8598e+00, -9.0352e+00,  1.1493e+00, -2.5786e+00, -1.3161e+00,\n",
      "          5.7708e-01, -1.0085e+00,  1.1176e+00, -9.7763e-01,  1.9842e+00],\n",
      "        [-2.0144e+00, -1.9725e+00,  6.0144e+00,  7.2420e-01,  3.8481e+00,\n",
      "         -4.0638e+00, -3.6730e+00,  2.9827e+00, -1.1506e+00,  1.6475e+00],\n",
      "        [-1.6933e+00, -9.4283e-01,  4.5866e+00,  7.4167e+00, -3.6735e+00,\n",
      "         -4.5899e-01, -5.2282e-01, -5.1603e+00,  3.4899e+00, -3.0039e+00],\n",
      "        [-4.2778e+00,  6.5729e+00,  1.9145e+00,  2.5585e-01, -1.3833e+00,\n",
      "         -2.1541e+00, -3.8402e+00,  4.9644e+00, -8.1749e-02,  2.6638e-01],\n",
      "        [-4.4780e+00,  8.6576e+00, -5.7412e-01, -1.6952e+00,  1.3385e+00,\n",
      "         -1.7276e+00,  8.0451e-01,  7.2378e-01,  6.9251e-02, -9.4222e-01],\n",
      "        [ 1.2247e+01, -1.0946e+01,  1.9229e+00, -5.0989e+00, -2.5533e+00,\n",
      "          1.3843e+00,  3.8974e+00, -1.4191e+00, -2.2163e+00,  3.2312e-01],\n",
      "        [ 8.1790e+00, -6.6196e+00,  2.3369e+00, -5.5931e+00, -2.1739e+00,\n",
      "          1.7778e+00,  6.8454e+00, -5.7208e+00,  9.8292e-01, -2.6740e+00],\n",
      "        [-1.3560e+00,  3.2344e+00,  9.9258e+00,  3.6715e+00, -6.4647e+00,\n",
      "         -2.6423e+00, -4.5966e+00, -1.5998e-01,  2.3102e+00, -3.3690e+00],\n",
      "        [-1.9686e+00,  1.7577e+00,  1.0685e+00,  8.4828e+00, -6.0577e+00,\n",
      "          1.9120e+00, -2.1326e+00, -1.0178e+00, -2.1498e-01, -1.8851e+00],\n",
      "        [-7.3543e-01, -1.0119e+00, -4.9223e+00,  1.1738e-01,  1.4377e+00,\n",
      "          8.2459e+00,  2.2366e+00, -8.8053e+00,  3.0088e+00,  7.4503e-01],\n",
      "        [ 1.1270e+01, -8.2568e+00,  1.5560e+00, -2.3536e+00, -3.5278e+00,\n",
      "          2.2882e+00,  3.7539e+00, -2.6825e+00, -2.8061e+00, -1.7119e+00],\n",
      "        [-2.8678e-01, -8.3199e+00,  1.0236e+00, -5.3082e+00,  9.2190e+00,\n",
      "         -9.5356e-01,  1.3368e+00,  1.5429e+00,  4.2740e-01,  2.0655e+00],\n",
      "        [ 4.7786e-01, -5.7899e+00,  4.2663e+00, -3.2670e+00, -8.5502e-01,\n",
      "          6.1105e-01,  7.9240e+00, -9.0254e+00,  7.9009e+00, -4.0306e+00],\n",
      "        [-1.5726e+00, -5.2098e+00, -4.2043e+00, -1.0395e+00,  4.0958e+00,\n",
      "         -6.6443e-01, -7.4766e+00,  4.1514e+00,  4.1452e+00,  9.6954e+00],\n",
      "        [-3.9882e-01,  2.4685e+00,  1.1558e+01,  4.2814e+00, -5.9981e+00,\n",
      "         -2.7434e+00, -2.4859e+00, -1.0903e+00, -8.0361e-01, -4.3214e+00],\n",
      "        [-2.6448e+00,  3.8889e+00,  4.8866e-02, -1.9442e+00,  2.4213e+00,\n",
      "         -3.1023e+00, -1.4554e+00, -1.1103e-02,  2.6934e+00,  2.2932e+00],\n",
      "        [ 1.2547e+00, -1.6761e+00, -3.5801e+00, -3.2487e+00,  3.5177e+00,\n",
      "          4.8220e+00,  8.9273e+00, -9.4804e+00,  2.8493e+00, -3.7415e+00],\n",
      "        [ 1.3424e-02, -7.0504e+00, -4.1801e+00, -1.8226e-01,  5.8823e+00,\n",
      "          1.3374e+00, -4.7341e+00,  1.0872e+00,  8.9424e-01,  8.5334e+00],\n",
      "        [ 7.9781e+00, -8.0918e+00,  2.7673e+00, -1.3220e+00, -5.9083e-01,\n",
      "         -8.5912e-02, -2.9959e+00,  2.8627e+00, -2.4510e+00,  1.5700e+00],\n",
      "        [-2.2822e+00, -4.4828e+00, -7.1931e-01, -4.5218e+00,  1.1146e+01,\n",
      "         -3.6134e+00, -1.1649e-01,  1.9060e+00,  1.1930e+00,  3.6062e+00],\n",
      "        [-3.4620e+00, -5.1690e+00, -3.3904e+00, -3.4149e+00,  1.2164e+01,\n",
      "         -9.0408e-01, -1.3849e+00,  3.7302e+00, -2.8863e-01,  3.9342e+00],\n",
      "        [-1.5319e+00, -1.8785e+00,  1.1823e+00,  8.0925e+00, -2.6824e+00,\n",
      "          2.9035e+00, -5.8043e-01, -5.6301e+00,  1.3019e+00, -1.2237e+00],\n",
      "        [ 9.5316e-01, -3.0765e+00,  1.2899e+00, -4.1827e-01,  8.8997e-01,\n",
      "         -3.6959e+00, -7.8579e+00,  1.0887e+01, -2.7248e+00,  5.8833e+00]],\n",
      "       grad_fn=<AddmmBackward>)\n",
      "Predicted:  8 3 7 8 2 2 9 0 5 4 3 9 8 3 9 1 6 1 3 4 9 1 7 8 1 1 9 3 9 9 8 3 8 1 8 0 6 9 6 4 7 0 2 3 1 1 0 0 2 3 5 0 4 6 9 2 1 6 9 0 4 4 3 7\n"
     ]
    }
   ],
   "source": [
    "print(test_out)\n",
    "_, predicted = torch.max(test_out, dim=1)\n",
    "\n",
    "print('Predicted: ', ' '.join('%d' % predicted[j]\n",
    "                              for j in range(64)))"
   ]
  },
  {
   "cell_type": "markdown",
   "metadata": {},
   "source": [
    "测试集上面整体的准确率"
   ]
  },
  {
   "cell_type": "code",
   "execution_count": 24,
   "metadata": {},
   "outputs": [
    {
     "name": "stdout",
     "output_type": "stream",
     "text": [
      "Accuracy of the network on the  test images: 96 %\n"
     ]
    }
   ],
   "source": [
    "correct = 0\n",
    "total = 0\n",
    "with torch.no_grad():# 进行评测的时候网络不更新梯度\n",
    "    for data in test_loader:\n",
    "        images, labels = data\n",
    "        outputs = test_net(images)\n",
    "        _, predicted = torch.max(outputs.data, 1)\n",
    "        total += labels.size(0)# labels 的长度\n",
    "        correct += (predicted == labels).sum().item() # 预测正确的数目\n",
    "\n",
    "print('Accuracy of the network on the  test images: %d %%' % (\n",
    "    100 * correct / total))"
   ]
  },
  {
   "cell_type": "markdown",
   "metadata": {},
   "source": [
    "10个类别的准确率"
   ]
  },
  {
   "cell_type": "code",
   "execution_count": 25,
   "metadata": {},
   "outputs": [
    {
     "name": "stdout",
     "output_type": "stream",
     "text": [
      "Accuracy of 0 : 99 %\n",
      "Accuracy of 1 : 98 %\n",
      "Accuracy of 2 : 96 %\n",
      "Accuracy of 3 : 91 %\n",
      "Accuracy of 4 : 97 %\n",
      "Accuracy of 5 : 95 %\n",
      "Accuracy of 6 : 96 %\n",
      "Accuracy of 7 : 93 %\n",
      "Accuracy of 8 : 94 %\n",
      "Accuracy of 9 : 92 %\n"
     ]
    }
   ],
   "source": [
    "class_correct = list(0. for i in range(10))\n",
    "class_total = list(0. for i in range(10))\n",
    "with torch.no_grad():\n",
    "    for data in test_loader:\n",
    "        images, labels = data\n",
    "        outputs = test_net(images)\n",
    "        _, predicted = torch.max(outputs, 1)\n",
    "        c = (predicted == labels)\n",
    "#         print(predicted == labels)\n",
    "        for i in range(10):\n",
    "            label = labels[i]\n",
    "            class_correct[label] += c[i].item()\n",
    "            class_total[label] += 1\n",
    "\n",
    "\n",
    "for i in range(10):\n",
    "    print('Accuracy of %d : %2d %%' % (\n",
    "        i, 100 * class_correct[i] / class_total[i]))"
   ]
  },
  {
   "cell_type": "markdown",
   "metadata": {},
   "source": [
    "# 参考"
   ]
  },
  {
   "cell_type": "markdown",
   "metadata": {},
   "source": [
    "https://aistudio.baidu.com/aistudio/projectdetail/307141\n",
    "\n",
    "https://blog.csdn.net/weixin_45885232/article/details/103950992\n",
    "\n",
    "https://zhuanlan.zhihu.com/p/30249139\n",
    "\n",
    "https://pytorch.org/tutorials/beginner/blitz/cifar10_tutorial.html#sphx-glr-beginner-blitz-cifar10-tutorial-py"
   ]
  }
 ],
 "metadata": {
  "kernelspec": {
   "display_name": "Python 3",
   "language": "python",
   "name": "python3"
  },
  "language_info": {
   "codemirror_mode": {
    "name": "ipython",
    "version": 3
   },
   "file_extension": ".py",
   "mimetype": "text/x-python",
   "name": "python",
   "nbconvert_exporter": "python",
   "pygments_lexer": "ipython3",
   "version": "3.6.5"
  }
 },
 "nbformat": 4,
 "nbformat_minor": 2
}
